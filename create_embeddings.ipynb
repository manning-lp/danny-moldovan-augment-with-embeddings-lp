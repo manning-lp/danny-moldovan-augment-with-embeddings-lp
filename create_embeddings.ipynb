{
 "cells": [
  {
   "cell_type": "code",
   "execution_count": 59,
   "id": "6a0f6ed4-8d31-4b6c-9a95-c488bec28315",
   "metadata": {},
   "outputs": [],
   "source": [
    "from openai import OpenAI\n",
    "from tqdm import tqdm\n",
    "import pickle\n",
    "import pandas as pd\n",
    "\n",
    "client = OpenAI(api_key = \"sk-proj-IBdB7RZb5nBBaQ92DzdXT3BlbkFJOwqaJ1hWIdDaQ67uv261\")\n",
    "embedding_batch_size = 512"
   ]
  },
  {
   "cell_type": "code",
   "execution_count": 33,
   "id": "d0b2b1bb-df48-4066-b710-dc76f810d8fa",
   "metadata": {},
   "outputs": [
    {
     "name": "stdout",
     "output_type": "stream",
     "text": [
      "2688\n"
     ]
    }
   ],
   "source": [
    "file_text_chunks = open('text_chunks.pkl', 'rb') \n",
    "text_chunks = pickle.load(file_text_chunks)\n",
    "print(len(text_chunks))"
   ]
  },
  {
   "cell_type": "code",
   "execution_count": 42,
   "id": "2496fa53-b781-4761-b330-46dc7a111bb0",
   "metadata": {},
   "outputs": [],
   "source": [
    "def create_batches(data_dict, max_batch_size=512):\n",
    "    \"\"\"\n",
    "    Creates batches of key-value pairs from a dictionary, ensuring each batch doesn't exceed the specified size.\n",
    "\n",
    "    Args:\n",
    "        data_dict: A dictionary where values are lists of texts and keys are texts.\n",
    "        max_batch_size: Maximum number of key-value pairs allowed in a single batch.\n",
    "\n",
    "    Returns:\n",
    "        A list of batches, where each batch is a list of tuples (key, value).\n",
    "    \"\"\"\n",
    "    \n",
    "    batches = []\n",
    "    current_batch = []\n",
    "    current_batch_size = 0\n",
    "    \n",
    "    for key, values in tqdm(data_dict.items(), desc=\"Creating batches\"):\n",
    "        for value in values:\n",
    "            # Check if adding this pair would exceed the batch size\n",
    "            if current_batch_size + 1 > max_batch_size:\n",
    "                batches.append(current_batch)\n",
    "                current_batch = []\n",
    "                current_batch_size = 0\n",
    "\n",
    "            current_batch.append((key, value))\n",
    "            current_batch_size += 1\n",
    "\n",
    "    # Append the last batch if it's not empty\n",
    "    if current_batch:\n",
    "        batches.append(current_batch)\n",
    "    \n",
    "    return batches"
   ]
  },
  {
   "cell_type": "code",
   "execution_count": 32,
   "id": "da6c4241-80f2-4c08-9007-f4ac0107ff27",
   "metadata": {},
   "outputs": [],
   "source": [
    "def get_embedding(list_texts, model=\"text-embedding-3-small\"):\n",
    "    list_texts_replaced = [t.replace(\"\\n\", \" \") for t in list_texts]\n",
    "    embeddings = client.embeddings.create(input = list_texts_replaced, model=model).data\n",
    "    return [x.embedding for x in embeddings]\n",
    "\n",
    "#get_embedding([\"I love Kitty\", \"I am Danny Moldovan\"], model='text-embedding-3-small')"
   ]
  },
  {
   "cell_type": "code",
   "execution_count": 57,
   "id": "27a40c88-21d9-45f1-85f8-77c30c3f184f",
   "metadata": {},
   "outputs": [],
   "source": [
    "def create_embeddings_for_text_chunks(text_chunks, model=\"text-embedding-3-small\", embedding_batch_size = 512):\n",
    "    batches_text_chunks = create_batches(text_chunks, embedding_batch_size)\n",
    "    \n",
    "    embeddings = {}\n",
    "\n",
    "    for batch in tqdm(batches_text_chunks, desc=\"Computing embeddings for batches of text chunks\"):  # Iterate with progress bar\n",
    "        filenames = [k for (k, v) in batch]\n",
    "        chunks = [v for (k, v) in batch]\n",
    "        batch_embeddings = get_embedding(chunks)\n",
    "    \n",
    "        for (f, e) in zip(filenames, batch_embeddings):\n",
    "            if f not in embeddings.keys():\n",
    "                embeddings[f] = [e]\n",
    "            else:\n",
    "                embeddings[f].append(e)\n",
    "\n",
    "    return embeddings"
   ]
  },
  {
   "cell_type": "code",
   "execution_count": 58,
   "id": "cb9f4efa-51cf-4e71-a8ff-48835f6087ca",
   "metadata": {},
   "outputs": [
    {
     "name": "stderr",
     "output_type": "stream",
     "text": [
      "Creating Batches: 100%|██████████| 2688/2688 [00:00<00:00, 176061.73it/s]\n",
      "Computing embeddings for batches of text chunks: 100%|██████████| 18/18 [03:18<00:00, 11.04s/it]\n"
     ]
    },
    {
     "data": {
      "text/plain": [
       "2688"
      ]
     },
     "execution_count": 58,
     "metadata": {},
     "output_type": "execute_result"
    }
   ],
   "source": [
    "embeddings = create_embeddings_for_text_chunks(text_chunks)\n",
    "len(embeddings.keys())"
   ]
  },
  {
   "cell_type": "code",
   "execution_count": 79,
   "id": "8995e1ac-9556-40a6-a3c2-768a1d2f70b5",
   "metadata": {},
   "outputs": [],
   "source": [
    "def convert_dictionaries_to_dataframe(text_chunks, embeddings):\n",
    "    text_chunk_items = list(text_chunks.items())\n",
    "    embedding_items = list(embeddings.items())\n",
    "    \n",
    "    flattened_data_chunks = [(f, c) for f, l in text_chunk_items for c in l]\n",
    "    flattened_data_embeddings = [(f, e) for f, l in embedding_items for e in l]\n",
    "    \n",
    "    flattened_data_combined = [(f, c, e) for (f, c), (g, e) in list(zip(flattened_data_chunks, flattened_data_embeddings))]\n",
    "    \n",
    "    df = pd.DataFrame(flattened_data_combined, columns=['filename', 'text chunk', 'embedding'])\n",
    "    return df"
   ]
  },
  {
   "cell_type": "code",
   "execution_count": 81,
   "id": "2e7d6e85-6c98-49b4-92d3-9d356c5efcbe",
   "metadata": {},
   "outputs": [
    {
     "name": "stdout",
     "output_type": "stream",
     "text": [
      "8843\n"
     ]
    },
    {
     "data": {
      "text/html": [
       "<div>\n",
       "<style scoped>\n",
       "    .dataframe tbody tr th:only-of-type {\n",
       "        vertical-align: middle;\n",
       "    }\n",
       "\n",
       "    .dataframe tbody tr th {\n",
       "        vertical-align: top;\n",
       "    }\n",
       "\n",
       "    .dataframe thead th {\n",
       "        text-align: right;\n",
       "    }\n",
       "</style>\n",
       "<table border=\"1\" class=\"dataframe\">\n",
       "  <thead>\n",
       "    <tr style=\"text-align: right;\">\n",
       "      <th></th>\n",
       "      <th>filename</th>\n",
       "      <th>text chunk</th>\n",
       "      <th>embedding</th>\n",
       "    </tr>\n",
       "  </thead>\n",
       "  <tbody>\n",
       "    <tr>\n",
       "      <th>0</th>\n",
       "      <td>apidocs/api.python.langchain.com/en/latest/_mo...</td>\n",
       "      <td>\\n\\n\\n\\nOverview: module code — 🦜🔗 LangChain ...</td>\n",
       "      <td>[-0.038963668048381805, 0.060036975890398026, ...</td>\n",
       "    </tr>\n",
       "    <tr>\n",
       "      <th>1</th>\n",
       "      <td>apidocs/api.python.langchain.com/en/latest/_mo...</td>\n",
       "      <td>.base\\nlangchain.agents.chat.output_parser\\nla...</td>\n",
       "      <td>[0.013684544712305069, 0.05675216019153595, 0....</td>\n",
       "    </tr>\n",
       "    <tr>\n",
       "      <th>2</th>\n",
       "      <td>apidocs/api.python.langchain.com/en/latest/_mo...</td>\n",
       "      <td>.langchain\\nlangchain.callbacks.tracers.langch...</td>\n",
       "      <td>[0.012743242084980011, 0.04998200014233589, 0....</td>\n",
       "    </tr>\n",
       "    <tr>\n",
       "      <th>3</th>\n",
       "      <td>apidocs/api.python.langchain.com/en/latest/_mo...</td>\n",
       "      <td>chain.chains.openai_functions.qa_with_structur...</td>\n",
       "      <td>[0.015767386183142662, 0.030865758657455444, 0...</td>\n",
       "    </tr>\n",
       "    <tr>\n",
       "      <th>4</th>\n",
       "      <td>apidocs/api.python.langchain.com/en/latest/_mo...</td>\n",
       "      <td>_loaders.arxiv\\nlangchain.document_loaders.ass...</td>\n",
       "      <td>[0.02353993058204651, 0.05262213572859764, 0.0...</td>\n",
       "    </tr>\n",
       "  </tbody>\n",
       "</table>\n",
       "</div>"
      ],
      "text/plain": [
       "                                            filename  \\\n",
       "0  apidocs/api.python.langchain.com/en/latest/_mo...   \n",
       "1  apidocs/api.python.langchain.com/en/latest/_mo...   \n",
       "2  apidocs/api.python.langchain.com/en/latest/_mo...   \n",
       "3  apidocs/api.python.langchain.com/en/latest/_mo...   \n",
       "4  apidocs/api.python.langchain.com/en/latest/_mo...   \n",
       "\n",
       "                                          text chunk  \\\n",
       "0   \\n\\n\\n\\nOverview: module code — 🦜🔗 LangChain ...   \n",
       "1  .base\\nlangchain.agents.chat.output_parser\\nla...   \n",
       "2  .langchain\\nlangchain.callbacks.tracers.langch...   \n",
       "3  chain.chains.openai_functions.qa_with_structur...   \n",
       "4  _loaders.arxiv\\nlangchain.document_loaders.ass...   \n",
       "\n",
       "                                           embedding  \n",
       "0  [-0.038963668048381805, 0.060036975890398026, ...  \n",
       "1  [0.013684544712305069, 0.05675216019153595, 0....  \n",
       "2  [0.012743242084980011, 0.04998200014233589, 0....  \n",
       "3  [0.015767386183142662, 0.030865758657455444, 0...  \n",
       "4  [0.02353993058204651, 0.05262213572859764, 0.0...  "
      ]
     },
     "execution_count": 81,
     "metadata": {},
     "output_type": "execute_result"
    }
   ],
   "source": [
    "df = convert_dictionaries_to_dataframe(text_chunks, embeddings)\n",
    "print(len(df))\n",
    "df.head()"
   ]
  },
  {
   "cell_type": "code",
   "execution_count": 83,
   "id": "8ccc9dfd-a947-4492-8071-f8163fd756d7",
   "metadata": {},
   "outputs": [
    {
     "name": "stdout",
     "output_type": "stream",
     "text": [
      "Collecting pyarrow\n",
      "  Downloading pyarrow-16.1.0-cp310-cp310-manylinux_2_28_x86_64.whl.metadata (3.0 kB)\n",
      "Requirement already satisfied: numpy>=1.16.6 in /system/conda/miniconda3/envs/cloudspace/lib/python3.10/site-packages (from pyarrow) (1.26.2)\n",
      "Downloading pyarrow-16.1.0-cp310-cp310-manylinux_2_28_x86_64.whl (40.8 MB)\n",
      "\u001b[2K   \u001b[90m━━━━━━━━━━━━━━━━━━━━━━━━━━━━━━━━━━━━━━━━\u001b[0m \u001b[32m40.8/40.8 MB\u001b[0m \u001b[31m61.4 MB/s\u001b[0m eta \u001b[36m0:00:00\u001b[0m:00:01\u001b[0m00:01\u001b[0m\n",
      "\u001b[?25hInstalling collected packages: pyarrow\n",
      "Successfully installed pyarrow-16.1.0\n"
     ]
    }
   ],
   "source": [
    "!pip install pyarrow"
   ]
  },
  {
   "cell_type": "code",
   "execution_count": 84,
   "id": "da0030ec-78a9-48a2-863a-1d3f38dba472",
   "metadata": {},
   "outputs": [],
   "source": [
    "df.to_feather(\"text_chunks_and_embedding_dataframe.feather\") "
   ]
  },
  {
   "cell_type": "code",
   "execution_count": null,
   "id": "c5a1f077-a917-4082-805f-013f4b896675",
   "metadata": {},
   "outputs": [],
   "source": []
  },
  {
   "cell_type": "code",
   "execution_count": null,
   "id": "d47419b3-2857-4b8c-8b27-baf5122299e7",
   "metadata": {},
   "outputs": [],
   "source": []
  }
 ],
 "metadata": {
  "kernelspec": {
   "display_name": "Python 3",
   "language": "python",
   "name": "python3"
  },
  "language_info": {
   "codemirror_mode": {
    "name": "ipython",
    "version": 3
   },
   "file_extension": ".py",
   "mimetype": "text/x-python",
   "name": "python",
   "nbconvert_exporter": "python",
   "pygments_lexer": "ipython3",
   "version": "3.10.10"
  }
 },
 "nbformat": 4,
 "nbformat_minor": 5
}
