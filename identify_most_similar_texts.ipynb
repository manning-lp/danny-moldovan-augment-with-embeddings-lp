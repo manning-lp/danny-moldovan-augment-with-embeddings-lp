{
 "cells": [
  {
   "cell_type": "code",
   "execution_count": 38,
   "id": "412cef41-906d-4ecb-a6f8-bc7a5c507175",
   "metadata": {},
   "outputs": [],
   "source": [
    "import openai\n",
    "from openai import OpenAI\n",
    "from tqdm import tqdm\n",
    "import pickle\n",
    "import pandas as pd\n",
    "import numpy as np\n",
    "import os\n",
    "from dotenv import load_dotenv\n",
    "\n",
    "load_dotenv()\n",
    "\n",
    "client = OpenAI(api_key = os.getenv(\"OPENAI_API_KEY\"))\n",
    "top_most_similar_text_chunks = 5"
   ]
  },
  {
   "cell_type": "code",
   "execution_count": 39,
   "id": "494803bd-bc9f-4a77-a807-4e591754771c",
   "metadata": {},
   "outputs": [
    {
     "name": "stdout",
     "output_type": "stream",
     "text": [
      "Requirement already satisfied: pyarrow in /system/conda/miniconda3/envs/cloudspace/lib/python3.10/site-packages (16.1.0)\n",
      "Requirement already satisfied: numpy>=1.16.6 in /system/conda/miniconda3/envs/cloudspace/lib/python3.10/site-packages (from pyarrow) (1.26.2)\n"
     ]
    }
   ],
   "source": [
    "!pip install pyarrow"
   ]
  },
  {
   "cell_type": "code",
   "execution_count": 40,
   "id": "a7257a79-1189-4889-8535-cc78e4af6694",
   "metadata": {},
   "outputs": [
    {
     "name": "stdout",
     "output_type": "stream",
     "text": [
      "8843\n"
     ]
    },
    {
     "data": {
      "text/html": [
       "<div>\n",
       "<style scoped>\n",
       "    .dataframe tbody tr th:only-of-type {\n",
       "        vertical-align: middle;\n",
       "    }\n",
       "\n",
       "    .dataframe tbody tr th {\n",
       "        vertical-align: top;\n",
       "    }\n",
       "\n",
       "    .dataframe thead th {\n",
       "        text-align: right;\n",
       "    }\n",
       "</style>\n",
       "<table border=\"1\" class=\"dataframe\">\n",
       "  <thead>\n",
       "    <tr style=\"text-align: right;\">\n",
       "      <th></th>\n",
       "      <th>filename</th>\n",
       "      <th>text chunk</th>\n",
       "      <th>embedding</th>\n",
       "    </tr>\n",
       "  </thead>\n",
       "  <tbody>\n",
       "    <tr>\n",
       "      <th>0</th>\n",
       "      <td>apidocs/api.python.langchain.com/en/latest/_mo...</td>\n",
       "      <td>\\n\\n\\n\\nOverview: module code — 🦜🔗 LangChain ...</td>\n",
       "      <td>[-0.038963668048381805, 0.060036975890398026, ...</td>\n",
       "    </tr>\n",
       "    <tr>\n",
       "      <th>1</th>\n",
       "      <td>apidocs/api.python.langchain.com/en/latest/_mo...</td>\n",
       "      <td>.base\\nlangchain.agents.chat.output_parser\\nla...</td>\n",
       "      <td>[0.013684544712305069, 0.05675216019153595, 0....</td>\n",
       "    </tr>\n",
       "    <tr>\n",
       "      <th>2</th>\n",
       "      <td>apidocs/api.python.langchain.com/en/latest/_mo...</td>\n",
       "      <td>.langchain\\nlangchain.callbacks.tracers.langch...</td>\n",
       "      <td>[0.012743242084980011, 0.04998200014233589, 0....</td>\n",
       "    </tr>\n",
       "    <tr>\n",
       "      <th>3</th>\n",
       "      <td>apidocs/api.python.langchain.com/en/latest/_mo...</td>\n",
       "      <td>chain.chains.openai_functions.qa_with_structur...</td>\n",
       "      <td>[0.015767386183142662, 0.030865758657455444, 0...</td>\n",
       "    </tr>\n",
       "    <tr>\n",
       "      <th>4</th>\n",
       "      <td>apidocs/api.python.langchain.com/en/latest/_mo...</td>\n",
       "      <td>_loaders.arxiv\\nlangchain.document_loaders.ass...</td>\n",
       "      <td>[0.02353993058204651, 0.05262213572859764, 0.0...</td>\n",
       "    </tr>\n",
       "  </tbody>\n",
       "</table>\n",
       "</div>"
      ],
      "text/plain": [
       "                                            filename  \\\n",
       "0  apidocs/api.python.langchain.com/en/latest/_mo...   \n",
       "1  apidocs/api.python.langchain.com/en/latest/_mo...   \n",
       "2  apidocs/api.python.langchain.com/en/latest/_mo...   \n",
       "3  apidocs/api.python.langchain.com/en/latest/_mo...   \n",
       "4  apidocs/api.python.langchain.com/en/latest/_mo...   \n",
       "\n",
       "                                          text chunk  \\\n",
       "0   \\n\\n\\n\\nOverview: module code — 🦜🔗 LangChain ...   \n",
       "1  .base\\nlangchain.agents.chat.output_parser\\nla...   \n",
       "2  .langchain\\nlangchain.callbacks.tracers.langch...   \n",
       "3  chain.chains.openai_functions.qa_with_structur...   \n",
       "4  _loaders.arxiv\\nlangchain.document_loaders.ass...   \n",
       "\n",
       "                                           embedding  \n",
       "0  [-0.038963668048381805, 0.060036975890398026, ...  \n",
       "1  [0.013684544712305069, 0.05675216019153595, 0....  \n",
       "2  [0.012743242084980011, 0.04998200014233589, 0....  \n",
       "3  [0.015767386183142662, 0.030865758657455444, 0...  \n",
       "4  [0.02353993058204651, 0.05262213572859764, 0.0...  "
      ]
     },
     "execution_count": 40,
     "metadata": {},
     "output_type": "execute_result"
    }
   ],
   "source": [
    "df = pd.read_feather(\"text_chunks_and_embedding_dataframe.feather\")\n",
    "print(len(df))\n",
    "df.head()"
   ]
  },
  {
   "cell_type": "code",
   "execution_count": 41,
   "id": "6eb8f242-f5c8-4fa7-a1e7-64e1fc332635",
   "metadata": {},
   "outputs": [],
   "source": [
    "def get_embedding(list_texts, model=\"text-embedding-3-small\"):\n",
    "    list_texts_replaced = [t.replace(\"\\n\", \" \") for t in list_texts]\n",
    "    embeddings = client.embeddings.create(input = list_texts_replaced, model=model).data\n",
    "    return [x.embedding for x in embeddings]"
   ]
  },
  {
   "cell_type": "code",
   "execution_count": 42,
   "id": "d20cb88f-6aed-4dc8-a9fd-84413c7d284f",
   "metadata": {},
   "outputs": [],
   "source": [
    "def cosine_similarity(a, b):\n",
    "    \"\"\"Calculates cosine similarity between two vectors using NumPy.\"\"\"\n",
    "    dot_product = np.dot(a, b)\n",
    "    norm_a = np.linalg.norm(a)\n",
    "    norm_b = np.linalg.norm(b)\n",
    "    return dot_product / (norm_a * norm_b)"
   ]
  },
  {
   "cell_type": "code",
   "execution_count": 43,
   "id": "8e72eb54-df73-4010-9b10-189254acee10",
   "metadata": {},
   "outputs": [],
   "source": [
    "def find_most_similar_text_chunks(search_term, df, top_most_similar_text_chunks = 5):\n",
    "    embedding_search_term = get_embedding([search_term])[0]\n",
    "    df['similarity'] = df[\"embedding\"].apply(lambda x: cosine_similarity(x, embedding_search_term))\n",
    "    df = df.sort_values(by='similarity', ascending=False)\n",
    "\n",
    "    return (list(df[\"text chunk\"])[:top_most_similar_text_chunks], list(df[\"similarity\"])[:top_most_similar_text_chunks])"
   ]
  },
  {
   "cell_type": "code",
   "execution_count": 44,
   "id": "1e20bd8c-835a-4fcf-a9a0-0692244011ff",
   "metadata": {},
   "outputs": [],
   "source": [
    "search_term = \"How to create an app using LangChain?\"\n",
    "most_similar_text_chunks = find_most_similar_text_chunks(search_term, df)"
   ]
  },
  {
   "cell_type": "code",
   "execution_count": 45,
   "id": "254c54bd-9d25-4359-9ace-80c25ff35bbd",
   "metadata": {},
   "outputs": [
    {
     "data": {
      "text/plain": [
       "([' \\n\\n\\n\\nlangchain.tools.zapier.tool — 🦜🔗 LangChain 0.0.305\\n\\n\\n\\n\\n\\n\\n\\n\\n\\n\\n\\n\\n\\n\\n\\n\\n\\n\\n\\n\\n\\n\\n\\n\\n\\n\\n\\n\\n\\n\\n\\nAPI\\n\\n\\nExperimental\\n\\n\\nPython Docs\\n\\n\\n\\n\\n\\n\\n\\n\\n\\n\\n\\n\\n\\n\\n\\nToggle Menu\\n\\n\\n\\nPrevUp\\nNext\\n\\n\\n\\nLangChain 0.0.305\\n\\n\\n\\n\\n\\n\\n\\n\\nSource code for langchain.tools.zapier.tool\\n\"\"\"## Zapier Natural Language Actions API\\n\\\\\\nFull docs here: https://nla.zapier.com/start/\\n\\n**Zapier Natural Language Actions** gives you access to the 5k+ apps, 20k+ actions\\non Zapier\\'s platform through a natural language API interface.\\n\\nNLA supports apps like Gmail, Salesforce, Trello, Slack, Asana, HubSpot, Google Sheets,\\nMicrosoft Teams, and thousands more apps: https://zapier.com/apps\\n\\nZapier NLA handles ALL the underlying API auth and translation from\\nnatural language --> underlying API call --> return simplified output for LLMs\\nThe key idea is you, or your users, expose a set of actions via an oauth-like setup\\nwindow, which you can then query and execute via a REST API.\\n\\nNLA offers both API Key and OAuth for signing NLA API requests.\\n\\n1. Server-side (API Key): for quickly getting started, testing, and production scenarios\\n    where LangChain will only use actions exposed in the developer\\'s Zapier account\\n    (and will use the developer\\'s connected accounts on Zapier.com)\\n\\n2. User-facing (Oauth): for production scenarios where you are deploying an end-user\\n    facing application and LangChain needs access to end-user\\'s exposed actions and\\n    connected accounts on Zapier.com\\n\\nThis quick start will focus on the server-side use case for brevity.\\nReview [full docs](https://nla.zapier.com/start/) for user-facing oauth developer\\nsupport.\\n\\nTypically, you\\'d use SequentialChain, here\\'s a basic example:\\n\\n    1. Use NLA to find an email in Gmail\\n    2. Use LLMChain to generate a draft reply to (1)\\n    3. Use NLA to send the draft reply (2) to someone in Slack via direct message\\n\\nIn code, below:\\n\\n```python\\n\\nimport os\\n\\n# get from https://platform.openai.com/\\nos.environ[\"OPENAI_API_KEY\"] = os.environ.get(\"OPENAI_API_KEY\", \"\")\\n\\n# get from https://nla.zapier.com/docs/authentication/\\nos.environ[\"ZAPIER_NLA_API_KEY\"] = os.environ.get(\"ZAPI',\n",
       "  ' tokens.\\n\\ncallbacks.openai_info.standardize_model_name(...)\\nStandardize the model name to a format that can be used in the OpenAI API.\\n\\ncallbacks.sagemaker_callback.save_json(data,\\xa0...)\\nSave dict to local file path.\\n\\ncallbacks.tracers.evaluation.wait_for_all_evaluators()\\nWait for all tracers to finish.\\n\\ncallbacks.tracers.langchain.get_client()\\nGet the client.\\n\\ncallbacks.tracers.langchain.log_error_once(...)\\nLog an error once.\\n\\ncallbacks.tracers.langchain.wait_for_all_tracers()\\nWait for all tracers to finish.\\n\\ncallbacks.tracers.langchain_v1.get_headers()\\nGet the headers for the LangChain API.\\n\\ncallbacks.tracers.schemas.RunTypeEnum()\\nRunTypeEnum.\\n\\ncallbacks.tracers.stdout.elapsed(run)\\nGet the elapsed time of a run.\\n\\ncallbacks.tracers.stdout.try_json_stringify(...)\\nTry to stringify an object to JSON.\\n\\ncallbacks.utils.flatten_dict(nested_dict[,\\xa0...])\\nFlattens a nested dictionary into a flat dictionary.\\n\\ncallbacks.utils.hash_string(s)\\nHash a string using sha1.\\n\\ncallbacks.utils.import_pandas()\\nImport the pandas python package and raise an error if it is not installed.\\n\\ncallbacks.utils.import_spacy()\\nImport the spacy python package and raise an error if it is not installed.\\n\\ncallbacks.utils.import_textstat()\\nImport the textstat python package and raise an error if it is not installed.\\n\\ncallbacks.utils.load_json(json_path)\\nLoad json file to a string.\\n\\ncallbacks.wandb_callback.analyze_text(text)\\nAnalyze text using textstat and spacy.\\n\\ncallbacks.wandb_callback.construct_html_from_prompt_and_generation(...)\\nConstruct an html element from a prompt and a generation.\\n\\ncallbacks.wandb_callback.import_wandb()\\nImport the wandb python package and raise an error if it is not installed.\\n\\ncallbacks.wandb_callback.load_json_to_dict(...)\\nLoad json file to a dictionary.\\n\\ncallbacks.whylabs_callback.import_langkit([...])\\nImport the langkit python package and raise an error if it is not installed.\\n\\n\\n\\n\\n\\n\\nlangchain.chains¶\\nChains are easily reusable components linked together.\\nChains encode a sequence of calls to components like models, document retrievers,\\nother Chains, etc., and provide a simple interface to this sequence.\\nThe Chain interface makes it easy to create apps that are:\\n\\n\\nStateful: add Memory to any Chain to give it state,\\nObservable: pass Callbacks to a Chain to execute additional functionality,\\nlike logging, outside the main sequence of component calls,\\nComposable: combine Chains with other components, including other Chains.\\n\\n\\nClass hierarchy:\\nChain',\n",
       "  ' \\n\\n\\n\\n\\nlangchain.chains.openai_functions.openapi.get_openapi_chain — 🦜🔗 LangChain 0.0.305\\n\\n\\n\\n\\n\\n\\n\\n\\n\\n\\n\\n\\n\\n\\n\\n\\n\\n\\n\\n\\n\\n\\n\\n\\n\\n\\n\\n\\n\\n\\n\\nAPI\\n\\n\\nExperimental\\n\\n\\nPython Docs\\n\\n\\n\\n\\n\\n\\n\\n\\n\\n\\n\\n\\n\\n\\n\\nToggle Menu\\n\\n\\n\\nPrevUp\\nNext\\n\\n\\n\\nLangChain 0.0.305\\n\\n\\n\\n\\nlangchain.chains.openai_functions.openapi.get_openapi_chain\\n\\n\\n\\n\\n\\n\\n\\nlangchain.chains.openai_functions.openapi.get_openapi_chain¶\\n\\n\\nlangchain.chains.openai_functions.openapi.get_openapi_chain(spec: Union[OpenAPISpec, str], llm: Optional[BaseLanguageModel] = None, prompt: Optional[BasePromptTemplate] = None, request_chain: Optional[Chain] = None, llm_chain_kwargs: Optional[Dict] = None, verbose: bool = False, headers: Optional[Dict] = None, params: Optional[Dict] = None, **kwargs: Any) → SequentialChain[source]¶\\nCreate a chain for querying an API from a OpenAPI spec.\\n\\nParameters\\n\\nspec – OpenAPISpec or url/file/text string corresponding to one.\\nllm – language model, should be an OpenAI function-calling model, e.g.\\nChatOpenAI(model=”gpt-3.5-turbo-0613”).\\nprompt – Main prompt template to use.\\nrequest_chain – Chain for taking the functions output and executing the request.\\n\\n\\n\\n\\nExamples using get_openapi_chain¶\\n\\nSet env var OPENAI_API_KEY or load from a .env file:\\n\\n\\n\\n\\n\\n            © 2023, Harrison Chase.\\n          Last updated on Oct 01, 2023.\\n          Show this page source\\n\\n\\n\\n\\n\\n\\n\\n',\n",
       "  '\\n\\n\\n\\n\\n\\n\\n\\nLangChain Python API Reference Documentation.\\n\\n\\n\\n\\n\\n\\n\\n\\n\\nYou will be automatically redirected to the new location of this page.\\n\\n',\n",
       "  \" \\n\\n\\n\\n\\nlangchain.hub.push — 🦜🔗 LangChain 0.0.305\\n\\n\\n\\n\\n\\n\\n\\n\\n\\n\\n\\n\\n\\n\\n\\n\\n\\n\\n\\n\\n\\n\\n\\n\\n\\n\\n\\n\\n\\n\\n\\nAPI\\n\\n\\nExperimental\\n\\n\\nPython Docs\\n\\n\\n\\n\\n\\n\\n\\n\\n\\n\\n\\n\\n\\n\\n\\nToggle Menu\\n\\n\\n\\nPrevUp\\nNext\\n\\n\\n\\nLangChain 0.0.305\\n\\n\\n\\n\\nlangchain.hub.push\\n\\n\\n\\n\\n\\n\\n\\nlangchain.hub.push¶\\n\\n\\nlangchain.hub.push(repo_full_name: str, object: Any, *, api_url: Optional[str] = None, api_key: Optional[str] = None, parent_commit_hash: Optional[str] = 'latest', new_repo_is_public: bool = True, new_repo_description: str = '') → str[source]¶\\nPushes an object to the hub and returns the URL it can be viewed at in a browser.\\n\\nParameters\\n\\nrepo_full_name – The full name of the repo to push to in the format of\\nowner/repo.\\nobject – The LangChain to serialize and push to the hub.\\napi_url – The URL of the LangChain Hub API. Defaults to the hosted API service\\nif you have an api key set, or a localhost instance if not.\\napi_key – The API key to use to authenticate with the LangChain Hub API.\\nparent_commit_hash – The commit hash of the parent commit to push to. Defaults\\nto the latest commit automatically.\\nnew_repo_is_public – Whether the repo should be public. Defaults to\\nTrue (Public by default).\\nnew_repo_description – The description of the repo. Defaults to an empty\\nstring.\\n\\n\\n\\n\\n\\n\\n\\n\\n\\n\\n            © 2023, Harrison Chase.\\n          Last updated on Oct 01, 2023.\\n          Show this page source\\n\\n\\n\\n\\n\\n\\n\\n\"],\n",
       " [0.5454220262054885,\n",
       "  0.497830136316661,\n",
       "  0.4969989007786006,\n",
       "  0.49222837366307154,\n",
       "  0.4769623658062426])"
      ]
     },
     "execution_count": 45,
     "metadata": {},
     "output_type": "execute_result"
    }
   ],
   "source": [
    "most_similar_text_chunks"
   ]
  },
  {
   "cell_type": "code",
   "execution_count": 46,
   "id": "0b617861-ec88-4f18-870e-6dafa8122f62",
   "metadata": {
    "scrolled": true
   },
   "outputs": [
    {
     "data": {
      "text/html": [
       "<div>\n",
       "<style scoped>\n",
       "    .dataframe tbody tr th:only-of-type {\n",
       "        vertical-align: middle;\n",
       "    }\n",
       "\n",
       "    .dataframe tbody tr th {\n",
       "        vertical-align: top;\n",
       "    }\n",
       "\n",
       "    .dataframe thead th {\n",
       "        text-align: right;\n",
       "    }\n",
       "</style>\n",
       "<table border=\"1\" class=\"dataframe\">\n",
       "  <thead>\n",
       "    <tr style=\"text-align: right;\">\n",
       "      <th></th>\n",
       "      <th>filename</th>\n",
       "      <th>text chunk</th>\n",
       "      <th>embedding</th>\n",
       "      <th>similarity</th>\n",
       "    </tr>\n",
       "  </thead>\n",
       "  <tbody>\n",
       "    <tr>\n",
       "      <th>0</th>\n",
       "      <td>apidocs/api.python.langchain.com/en/latest/_mo...</td>\n",
       "      <td>\\n\\n\\n\\nOverview: module code — 🦜🔗 LangChain ...</td>\n",
       "      <td>[-0.038963668048381805, 0.060036975890398026, ...</td>\n",
       "      <td>0.362716</td>\n",
       "    </tr>\n",
       "    <tr>\n",
       "      <th>1</th>\n",
       "      <td>apidocs/api.python.langchain.com/en/latest/_mo...</td>\n",
       "      <td>.base\\nlangchain.agents.chat.output_parser\\nla...</td>\n",
       "      <td>[0.013684544712305069, 0.05675216019153595, 0....</td>\n",
       "      <td>0.356514</td>\n",
       "    </tr>\n",
       "    <tr>\n",
       "      <th>2</th>\n",
       "      <td>apidocs/api.python.langchain.com/en/latest/_mo...</td>\n",
       "      <td>.langchain\\nlangchain.callbacks.tracers.langch...</td>\n",
       "      <td>[0.012743242084980011, 0.04998200014233589, 0....</td>\n",
       "      <td>0.434078</td>\n",
       "    </tr>\n",
       "    <tr>\n",
       "      <th>3</th>\n",
       "      <td>apidocs/api.python.langchain.com/en/latest/_mo...</td>\n",
       "      <td>chain.chains.openai_functions.qa_with_structur...</td>\n",
       "      <td>[0.015767386183142662, 0.030865758657455444, 0...</td>\n",
       "      <td>0.412369</td>\n",
       "    </tr>\n",
       "    <tr>\n",
       "      <th>4</th>\n",
       "      <td>apidocs/api.python.langchain.com/en/latest/_mo...</td>\n",
       "      <td>_loaders.arxiv\\nlangchain.document_loaders.ass...</td>\n",
       "      <td>[0.02353993058204651, 0.05262213572859764, 0.0...</td>\n",
       "      <td>0.331863</td>\n",
       "    </tr>\n",
       "  </tbody>\n",
       "</table>\n",
       "</div>"
      ],
      "text/plain": [
       "                                            filename  \\\n",
       "0  apidocs/api.python.langchain.com/en/latest/_mo...   \n",
       "1  apidocs/api.python.langchain.com/en/latest/_mo...   \n",
       "2  apidocs/api.python.langchain.com/en/latest/_mo...   \n",
       "3  apidocs/api.python.langchain.com/en/latest/_mo...   \n",
       "4  apidocs/api.python.langchain.com/en/latest/_mo...   \n",
       "\n",
       "                                          text chunk  \\\n",
       "0   \\n\\n\\n\\nOverview: module code — 🦜🔗 LangChain ...   \n",
       "1  .base\\nlangchain.agents.chat.output_parser\\nla...   \n",
       "2  .langchain\\nlangchain.callbacks.tracers.langch...   \n",
       "3  chain.chains.openai_functions.qa_with_structur...   \n",
       "4  _loaders.arxiv\\nlangchain.document_loaders.ass...   \n",
       "\n",
       "                                           embedding  similarity  \n",
       "0  [-0.038963668048381805, 0.060036975890398026, ...    0.362716  \n",
       "1  [0.013684544712305069, 0.05675216019153595, 0....    0.356514  \n",
       "2  [0.012743242084980011, 0.04998200014233589, 0....    0.434078  \n",
       "3  [0.015767386183142662, 0.030865758657455444, 0...    0.412369  \n",
       "4  [0.02353993058204651, 0.05262213572859764, 0.0...    0.331863  "
      ]
     },
     "execution_count": 46,
     "metadata": {},
     "output_type": "execute_result"
    }
   ],
   "source": [
    "df.head()"
   ]
  },
  {
   "cell_type": "code",
   "execution_count": 47,
   "id": "632fc947-e020-41ae-8958-70fc4fdfe481",
   "metadata": {},
   "outputs": [],
   "source": [
    "def get_completion(prompt, model=\"gpt-3.5-turbo\"):\n",
    "    \"\"\"Generates a completion from ChatGPT given a prompt.\"\"\"\n",
    "    messages = [{\"role\": \"user\", \"content\": prompt}]\n",
    "    response = client.chat.completions.create(\n",
    "        model=model,\n",
    "        messages=messages,\n",
    "        temperature=0, # this is the degree of randomness of the model's output\n",
    "    )\n",
    "    return response.choices[0].message.content"
   ]
  },
  {
   "cell_type": "code",
   "execution_count": 48,
   "id": "4f0da728-6feb-483c-a9c4-5126f33abfb1",
   "metadata": {},
   "outputs": [
    {
     "name": "stdout",
     "output_type": "stream",
     "text": [
      "To create an app using LangChain, follow these steps:\n",
      "\n",
      "1. Install LangChain SDK: Start by installing the LangChain SDK on your development environment. You can find the installation instructions on the LangChain website.\n",
      "\n",
      "2. Set up your project: Create a new project in your preferred development environment (e.g. Android Studio, Xcode, etc.) and import the LangChain SDK into your project.\n",
      "\n",
      "3. Initialize LangChain: Initialize the LangChain SDK in your app by providing your API key and other necessary configurations.\n",
      "\n",
      "4. Implement language translation: Use the LangChain SDK to implement language translation functionality in your app. You can translate text, speech, or even images using the SDK.\n",
      "\n",
      "5. Customize the user interface: Customize the user interface of your app to provide a seamless translation experience for your users. You can add language selection options, translation history, and other features to enhance the user experience.\n",
      "\n",
      "6. Test your app: Test your app thoroughly to ensure that the language translation functionality works as expected. Make sure to test different languages, accents, and input formats to ensure the accuracy of the translations.\n",
      "\n",
      "7. Publish your app: Once you are satisfied with the functionality and performance of your app, you can publish it to the app store for users to download and use.\n",
      "\n",
      "By following these steps, you can create an app using LangChain that provides seamless language translation functionality for your users.\n"
     ]
    }
   ],
   "source": [
    "prompt = search_term\n",
    "response = get_completion(prompt)\n",
    "print(response)"
   ]
  },
  {
   "cell_type": "code",
   "execution_count": 49,
   "id": "9c2e422b-5c11-458c-a5b4-9587ded67b12",
   "metadata": {},
   "outputs": [],
   "source": [
    "prompt = search_term + \" Please answer based on your knowledge and also by consulting the following documents: \" + \", \".join(most_similar_text_chunks[0])"
   ]
  },
  {
   "cell_type": "code",
   "execution_count": null,
   "id": "17b81e8e-30d9-44ae-af7d-a8df152fe8cb",
   "metadata": {},
   "outputs": [],
   "source": [
    "response = get_completion(prompt)\n",
    "print(response)"
   ]
  },
  {
   "cell_type": "code",
   "execution_count": null,
   "id": "7d26f4c9-0992-4fee-a142-416dbfe444cd",
   "metadata": {},
   "outputs": [],
   "source": []
  },
  {
   "cell_type": "code",
   "execution_count": null,
   "id": "cb7d5508-f7a2-45db-b8fd-ce9216c9c4d7",
   "metadata": {},
   "outputs": [],
   "source": []
  },
  {
   "cell_type": "code",
   "execution_count": null,
   "id": "97bc0fed-d90a-494d-86ec-cbbabbb00537",
   "metadata": {},
   "outputs": [],
   "source": []
  }
 ],
 "metadata": {
  "kernelspec": {
   "display_name": "Python 3",
   "language": "python",
   "name": "python3"
  },
  "language_info": {
   "codemirror_mode": {
    "name": "ipython",
    "version": 3
   },
   "file_extension": ".py",
   "mimetype": "text/x-python",
   "name": "python",
   "nbconvert_exporter": "python",
   "pygments_lexer": "ipython3",
   "version": "3.10.10"
  }
 },
 "nbformat": 4,
 "nbformat_minor": 5
}
